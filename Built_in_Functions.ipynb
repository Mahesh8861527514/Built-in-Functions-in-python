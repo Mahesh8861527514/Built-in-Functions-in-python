{
  "cells": [
    {
      "cell_type": "markdown",
      "metadata": {
        "id": "foTKrum7pfTH"
      },
      "source": [
        "Inbuilt Functions in python"
      ]
    },
    {
      "cell_type": "code",
      "execution_count": null,
      "metadata": {
        "id": "h-YVAm4vJtZa"
      },
      "outputs": [],
      "source": [
        "q=25\n",
        "r=30\n",
        "z=r>q"
      ]
    },
    {
      "cell_type": "code",
      "execution_count": null,
      "metadata": {
        "id": "wDhOXX0EJ_Dt"
      },
      "outputs": [],
      "source": [
        "print(z)"
      ]
    },
    {
      "cell_type": "code",
      "execution_count": null,
      "metadata": {
        "id": "rX_PFtMrKHCL"
      },
      "outputs": [],
      "source": [
        "type(z)"
      ]
    },
    {
      "cell_type": "code",
      "execution_count": null,
      "metadata": {
        "id": "uT2cF0bIaBZB"
      },
      "outputs": [],
      "source": [
        "a='Indian'\n",
        "b='Ocean'\n",
        "c=a+b\n",
        "print(c)"
      ]
    },
    {
      "cell_type": "code",
      "execution_count": null,
      "metadata": {
        "id": "qmEUfzdzakTc"
      },
      "outputs": [],
      "source": [
        "print(a+' '+b)"
      ]
    },
    {
      "cell_type": "code",
      "execution_count": null,
      "metadata": {
        "id": "_18u6oCkbVia"
      },
      "outputs": [],
      "source": [
        "p='My\n",
        "q='Laptop'\n",
        "print(p+' '+q)"
      ]
    },
    {
      "cell_type": "code",
      "execution_count": null,
      "metadata": {
        "id": "WF6Gi2cVdqUE"
      },
      "outputs": [],
      "source": [
        "l1=['India','USA','China']\n",
        "l2=[2,3,4,5,6]\n",
        "l3=['Mango','Apple','Grapes']"
      ]
    },
    {
      "cell_type": "code",
      "execution_count": null,
      "metadata": {
        "id": "7Q0V86F4dqRM"
      },
      "outputs": [],
      "source": [
        "print(l1+l2+l3)"
      ]
    },
    {
      "cell_type": "code",
      "execution_count": null,
      "metadata": {
        "id": "dT03tEa-fRzB"
      },
      "outputs": [],
      "source": [
        "p='India'\n",
        "q='Is'\n",
        "r='Great'"
      ]
    },
    {
      "cell_type": "code",
      "execution_count": null,
      "metadata": {
        "id": "tA-NG1xnfbuQ"
      },
      "outputs": [],
      "source": [
        "print(p+' '+q+' '+r)"
      ]
    },
    {
      "cell_type": "code",
      "execution_count": null,
      "metadata": {
        "id": "V2NpTlkHhAlw"
      },
      "outputs": [],
      "source": [
        "x='Ram'\n",
        "y='Sham'\n",
        "z='&'"
      ]
    },
    {
      "cell_type": "code",
      "execution_count": null,
      "metadata": {
        "id": "3_MJknInhI_S"
      },
      "outputs": [],
      "source": [
        "print(x+' '+z+' '+y)"
      ]
    },
    {
      "cell_type": "code",
      "execution_count": null,
      "metadata": {
        "id": "2Tfwh7XViuno"
      },
      "outputs": [],
      "source": [
        "name=input(\"enter your name\")\n",
        "\n",
        "a='Hi'\n",
        "b='Good Evening'\n",
        "c='How Are You?'"
      ]
    },
    {
      "cell_type": "code",
      "execution_count": null,
      "metadata": {
        "id": "jMi-Ve3-KVtb"
      },
      "outputs": [],
      "source": [
        "print(a,b,c)"
      ]
    },
    {
      "cell_type": "markdown",
      "metadata": {
        "id": "_jZ3j2hktKFu"
      },
      "source": [
        "Python test 1st and Answers"
      ]
    },
    {
      "cell_type": "code",
      "execution_count": null,
      "metadata": {
        "id": "kKF5xOM_tIcw"
      },
      "outputs": [],
      "source": [
        "x=8\n",
        "y=3"
      ]
    },
    {
      "cell_type": "code",
      "execution_count": null,
      "metadata": {
        "id": "SlzsuAudtwrJ"
      },
      "outputs": [],
      "source": [
        "result=x % y"
      ]
    },
    {
      "cell_type": "code",
      "execution_count": null,
      "metadata": {
        "colab": {
          "base_uri": "https://localhost:8080/"
        },
        "id": "Po__bUcft4i2",
        "outputId": "6e080bd3-0f46-4c0c-a39c-f1b932e41e2f"
      },
      "outputs": [
        {
          "name": "stdout",
          "output_type": "stream",
          "text": [
            "2\n"
          ]
        }
      ],
      "source": [
        "print(result)"
      ]
    },
    {
      "cell_type": "code",
      "execution_count": null,
      "metadata": {
        "id": "3U7fQqKUt61J"
      },
      "outputs": [],
      "source": [
        "x=3\n",
        "y=\"2\""
      ]
    },
    {
      "cell_type": "code",
      "execution_count": null,
      "metadata": {
        "id": "vy_OHBIQuG5Y"
      },
      "outputs": [],
      "source": [
        "result=x+int(y)"
      ]
    },
    {
      "cell_type": "code",
      "execution_count": null,
      "metadata": {
        "colab": {
          "base_uri": "https://localhost:8080/"
        },
        "id": "sAlHI9I6uM9A",
        "outputId": "15d9c357-1290-4319-e570-0e0a7cd6b10d"
      },
      "outputs": [
        {
          "name": "stdout",
          "output_type": "stream",
          "text": [
            "5\n"
          ]
        }
      ],
      "source": [
        "print(result)"
      ]
    },
    {
      "cell_type": "code",
      "execution_count": null,
      "metadata": {
        "id": "kZEvKng1uPOa"
      },
      "outputs": [],
      "source": [
        "x=\"Hello\"\n",
        "result=len(x)"
      ]
    },
    {
      "cell_type": "code",
      "execution_count": null,
      "metadata": {
        "colab": {
          "base_uri": "https://localhost:8080/"
        },
        "id": "SEndZfQkukwH",
        "outputId": "5c89ab30-72d5-4e21-d670-320da7b7b354"
      },
      "outputs": [
        {
          "name": "stdout",
          "output_type": "stream",
          "text": [
            "5\n"
          ]
        }
      ],
      "source": [
        "print(result)"
      ]
    },
    {
      "cell_type": "code",
      "execution_count": null,
      "metadata": {
        "id": "0j-LyAIkunIf"
      },
      "outputs": [],
      "source": [
        "x=7\n",
        "result=x%2"
      ]
    },
    {
      "cell_type": "code",
      "execution_count": null,
      "metadata": {
        "colab": {
          "base_uri": "https://localhost:8080/"
        },
        "id": "Kt6Ts44Yuw7l",
        "outputId": "7a03910a-824b-4301-b75d-ac44407fbb9d"
      },
      "outputs": [
        {
          "name": "stdout",
          "output_type": "stream",
          "text": [
            "1\n"
          ]
        }
      ],
      "source": [
        "print(result)"
      ]
    },
    {
      "cell_type": "code",
      "execution_count": null,
      "metadata": {
        "id": "wjU5gFSCuyfB"
      },
      "outputs": [],
      "source": [
        "x=\"Hello\"\n",
        "result=x[::-1]"
      ]
    },
    {
      "cell_type": "code",
      "execution_count": null,
      "metadata": {
        "colab": {
          "base_uri": "https://localhost:8080/"
        },
        "id": "YAogWLLKvDZv",
        "outputId": "08cb12c5-5565-42dd-93bf-f12b58c0c7d6"
      },
      "outputs": [
        {
          "name": "stdout",
          "output_type": "stream",
          "text": [
            "olleH\n"
          ]
        }
      ],
      "source": [
        "print(result)"
      ]
    },
    {
      "cell_type": "code",
      "execution_count": null,
      "metadata": {
        "id": "_yn8v1RXvFmK"
      },
      "outputs": [],
      "source": [
        "x=\"Hello\"\n",
        "result=x+\"World\""
      ]
    },
    {
      "cell_type": "code",
      "execution_count": null,
      "metadata": {
        "colab": {
          "base_uri": "https://localhost:8080/"
        },
        "id": "IdcaxHN2vWEJ",
        "outputId": "fd51172d-ec6e-4d8d-eecc-92e63d747c62"
      },
      "outputs": [
        {
          "name": "stdout",
          "output_type": "stream",
          "text": [
            "HelloWorld\n"
          ]
        }
      ],
      "source": [
        "print(result)"
      ]
    },
    {
      "cell_type": "code",
      "execution_count": null,
      "metadata": {
        "id": "XSDylpzIvXW5"
      },
      "outputs": [],
      "source": [
        "x=5\n",
        "y=2"
      ]
    },
    {
      "cell_type": "code",
      "execution_count": null,
      "metadata": {
        "id": "R3_5khKUvh-8"
      },
      "outputs": [],
      "source": [
        "result=x//y"
      ]
    },
    {
      "cell_type": "code",
      "execution_count": null,
      "metadata": {
        "colab": {
          "base_uri": "https://localhost:8080/"
        },
        "id": "smxEfQEjvlZf",
        "outputId": "1bdab50a-7379-49af-e033-be694b59e97b"
      },
      "outputs": [
        {
          "name": "stdout",
          "output_type": "stream",
          "text": [
            "2\n"
          ]
        }
      ],
      "source": [
        "print(result)"
      ]
    },
    {
      "cell_type": "code",
      "execution_count": null,
      "metadata": {
        "id": "ASjsGt2yvm1g"
      },
      "outputs": [],
      "source": [
        "x=4\n",
        "result=x>5"
      ]
    },
    {
      "cell_type": "code",
      "execution_count": null,
      "metadata": {
        "colab": {
          "base_uri": "https://localhost:8080/"
        },
        "id": "LxjpyTqTv0_l",
        "outputId": "4688a253-86d2-4c21-fc27-77e9c8f74147"
      },
      "outputs": [
        {
          "name": "stdout",
          "output_type": "stream",
          "text": [
            "False\n"
          ]
        }
      ],
      "source": [
        "print(result)"
      ]
    },
    {
      "cell_type": "code",
      "execution_count": null,
      "metadata": {
        "id": "bWik0F72v7Az"
      },
      "outputs": [],
      "source": [
        "x=\"python\"\n",
        "result=x[1:5:2]"
      ]
    },
    {
      "cell_type": "code",
      "execution_count": null,
      "metadata": {
        "colab": {
          "base_uri": "https://localhost:8080/"
        },
        "id": "Jg--dkVtwhRP",
        "outputId": "0e6b4451-0a51-44a2-d042-36cb01a4fbe9"
      },
      "outputs": [
        {
          "name": "stdout",
          "output_type": "stream",
          "text": [
            "yh\n"
          ]
        }
      ],
      "source": [
        "print(result)"
      ]
    },
    {
      "cell_type": "code",
      "execution_count": null,
      "metadata": {
        "id": "sEbDbiH9wkRZ"
      },
      "outputs": [],
      "source": [
        "x=True\n",
        "y=False"
      ]
    },
    {
      "cell_type": "code",
      "execution_count": null,
      "metadata": {
        "id": "qExna8Ccw7hG"
      },
      "outputs": [],
      "source": [
        "result=x or y"
      ]
    },
    {
      "cell_type": "code",
      "execution_count": null,
      "metadata": {
        "colab": {
          "base_uri": "https://localhost:8080/"
        },
        "id": "bF7xqQemxIXY",
        "outputId": "147b6389-c021-4d5e-ebfe-5120bcd8f20b"
      },
      "outputs": [
        {
          "name": "stdout",
          "output_type": "stream",
          "text": [
            "True\n"
          ]
        }
      ],
      "source": [
        "print(result)"
      ]
    },
    {
      "cell_type": "code",
      "execution_count": null,
      "metadata": {
        "id": "4O7cwAy3xJ2S"
      },
      "outputs": [],
      "source": [
        "x=5\n",
        "y=\"2\""
      ]
    },
    {
      "cell_type": "code",
      "execution_count": null,
      "metadata": {
        "id": "OITQB9oIxVtq"
      },
      "outputs": [],
      "source": [
        "result=str(x)+y"
      ]
    },
    {
      "cell_type": "code",
      "execution_count": null,
      "metadata": {
        "colab": {
          "base_uri": "https://localhost:8080/"
        },
        "id": "Ur_jscPgxdG9",
        "outputId": "8bc1cc39-8377-4e54-9bb6-c14b62931461"
      },
      "outputs": [
        {
          "name": "stdout",
          "output_type": "stream",
          "text": [
            "52\n"
          ]
        }
      ],
      "source": [
        "print(result)"
      ]
    },
    {
      "cell_type": "code",
      "execution_count": null,
      "metadata": {
        "id": "gv_0DihNxfNY"
      },
      "outputs": [],
      "source": [
        "x=5\n",
        "result=x**3"
      ]
    },
    {
      "cell_type": "code",
      "execution_count": null,
      "metadata": {
        "colab": {
          "base_uri": "https://localhost:8080/"
        },
        "id": "0FMZEfiKxrrY",
        "outputId": "08dd0284-6d2a-4114-a191-8a5b3b3a3cc6"
      },
      "outputs": [
        {
          "name": "stdout",
          "output_type": "stream",
          "text": [
            "125\n"
          ]
        }
      ],
      "source": [
        "print(result)"
      ]
    },
    {
      "cell_type": "code",
      "execution_count": null,
      "metadata": {
        "id": "dxuX4VLUxtl0"
      },
      "outputs": [],
      "source": [
        "x=\"5\"\n",
        "y=2"
      ]
    },
    {
      "cell_type": "code",
      "execution_count": null,
      "metadata": {
        "id": "8SvQklvDyvGn"
      },
      "outputs": [],
      "source": [
        "result=x*y"
      ]
    },
    {
      "cell_type": "code",
      "execution_count": null,
      "metadata": {
        "colab": {
          "base_uri": "https://localhost:8080/"
        },
        "id": "WmUtB-DRyxV8",
        "outputId": "ac0c4d39-83c2-436b-cfc7-928d559f80ee"
      },
      "outputs": [
        {
          "name": "stdout",
          "output_type": "stream",
          "text": [
            "55\n"
          ]
        }
      ],
      "source": [
        "print(result)"
      ]
    },
    {
      "cell_type": "code",
      "execution_count": null,
      "metadata": {
        "id": "0egUxIT-yzaU"
      },
      "outputs": [],
      "source": [
        "x=\"Hello\"\n",
        "result=x[1:4]"
      ]
    },
    {
      "cell_type": "code",
      "execution_count": null,
      "metadata": {
        "colab": {
          "base_uri": "https://localhost:8080/"
        },
        "id": "DL9wxBoRoSIW",
        "outputId": "5a56f355-0e2c-4bef-8720-649b093818f8"
      },
      "outputs": [
        {
          "name": "stdout",
          "output_type": "stream",
          "text": [
            "ell\n"
          ]
        }
      ],
      "source": [
        "print(result)"
      ]
    },
    {
      "cell_type": "code",
      "execution_count": null,
      "metadata": {
        "id": "x5EcqUQ-oa2v"
      },
      "outputs": [],
      "source": [
        "x=5\n",
        "y=3"
      ]
    },
    {
      "cell_type": "code",
      "execution_count": null,
      "metadata": {
        "id": "97krm-EOomYC"
      },
      "outputs": [],
      "source": [
        "result=x//y\n",
        "result+=1"
      ]
    },
    {
      "cell_type": "code",
      "execution_count": null,
      "metadata": {
        "colab": {
          "base_uri": "https://localhost:8080/"
        },
        "id": "f1NZ-l2VoyNm",
        "outputId": "a2caca4d-660a-4d38-c592-63fce8130bf9"
      },
      "outputs": [
        {
          "name": "stdout",
          "output_type": "stream",
          "text": [
            "2\n"
          ]
        }
      ],
      "source": [
        "print(result)"
      ]
    },
    {
      "cell_type": "code",
      "execution_count": null,
      "metadata": {
        "id": "-031yP3oo5AM"
      },
      "outputs": [],
      "source": [
        "x=\"Hello\"\n",
        "result=x.replace(\"l\",\"X\")"
      ]
    },
    {
      "cell_type": "code",
      "execution_count": null,
      "metadata": {
        "colab": {
          "base_uri": "https://localhost:8080/"
        },
        "id": "XiFbPJUpphlx",
        "outputId": "a6fec13b-e352-40f1-9ee8-ed50bd567897"
      },
      "outputs": [
        {
          "name": "stdout",
          "output_type": "stream",
          "text": [
            "HeXXo\n"
          ]
        }
      ],
      "source": [
        "print(result)"
      ]
    },
    {
      "cell_type": "code",
      "execution_count": null,
      "metadata": {
        "id": "qYX0F4Kxpjwl"
      },
      "outputs": [],
      "source": [
        "x=\"Hello\"\n",
        "result=x.lower()"
      ]
    },
    {
      "cell_type": "code",
      "execution_count": null,
      "metadata": {
        "colab": {
          "base_uri": "https://localhost:8080/"
        },
        "id": "U28biSa3pyEM",
        "outputId": "37d8814a-961d-4c81-b451-ab5870d53201"
      },
      "outputs": [
        {
          "name": "stdout",
          "output_type": "stream",
          "text": [
            "hello\n"
          ]
        }
      ],
      "source": [
        "print(result)"
      ]
    },
    {
      "cell_type": "code",
      "execution_count": null,
      "metadata": {
        "id": "5InMbFM7pz9v"
      },
      "outputs": [],
      "source": [
        "x=True\n",
        "y=False"
      ]
    },
    {
      "cell_type": "code",
      "execution_count": null,
      "metadata": {
        "id": "Y9D1IcxJp_3K"
      },
      "outputs": [],
      "source": [
        "result=x and y"
      ]
    },
    {
      "cell_type": "code",
      "execution_count": null,
      "metadata": {
        "colab": {
          "base_uri": "https://localhost:8080/"
        },
        "id": "WuOQj7O1qDUt",
        "outputId": "6ad73210-bdd2-4607-ac40-b9c5c832a8a3"
      },
      "outputs": [
        {
          "name": "stdout",
          "output_type": "stream",
          "text": [
            "False\n"
          ]
        }
      ],
      "source": [
        "print(result)"
      ]
    },
    {
      "cell_type": "code",
      "execution_count": null,
      "metadata": {
        "id": "8WnprsaAqFk3"
      },
      "outputs": [],
      "source": [
        "x=\"Hello\"\n",
        "result=x[::-3]"
      ]
    },
    {
      "cell_type": "code",
      "execution_count": null,
      "metadata": {
        "colab": {
          "base_uri": "https://localhost:8080/"
        },
        "id": "i4X0Kn5FqqRQ",
        "outputId": "beac3a22-c65b-43d7-fbf2-1b051fdb68f6"
      },
      "outputs": [
        {
          "name": "stdout",
          "output_type": "stream",
          "text": [
            "oe\n"
          ]
        }
      ],
      "source": [
        "print(result)"
      ]
    },
    {
      "cell_type": "code",
      "execution_count": null,
      "metadata": {
        "id": "uPDVvWdwqs5S"
      },
      "outputs": [],
      "source": [
        "x=\"Hello\"\n",
        "y=x.upper()"
      ]
    },
    {
      "cell_type": "code",
      "execution_count": null,
      "metadata": {
        "colab": {
          "base_uri": "https://localhost:8080/"
        },
        "id": "eSeXGu-brAB7",
        "outputId": "74e4bfa2-0cac-4652-a69d-82328966247f"
      },
      "outputs": [
        {
          "name": "stdout",
          "output_type": "stream",
          "text": [
            "HELLO\n"
          ]
        }
      ],
      "source": [
        "print(y)"
      ]
    },
    {
      "cell_type": "code",
      "execution_count": null,
      "metadata": {
        "id": "MrYR9e3ZrDHP"
      },
      "outputs": [],
      "source": [
        "x=(1,2,3,4,5)\n",
        "y=x.count(3)"
      ]
    },
    {
      "cell_type": "code",
      "execution_count": null,
      "metadata": {
        "colab": {
          "base_uri": "https://localhost:8080/"
        },
        "id": "u9lNQYvzrYVp",
        "outputId": "020ec2fc-dd1a-4ce5-c2dc-5a6dc0c8b773"
      },
      "outputs": [
        {
          "name": "stdout",
          "output_type": "stream",
          "text": [
            "1\n"
          ]
        }
      ],
      "source": [
        "print(y)"
      ]
    },
    {
      "cell_type": "code",
      "execution_count": null,
      "metadata": {
        "id": "vjhJ8J-xrjVB"
      },
      "outputs": [],
      "source": [
        "my_list=[1,2,3,4,5]\n",
        "my_list.extend([6,7])"
      ]
    },
    {
      "cell_type": "code",
      "execution_count": null,
      "metadata": {
        "colab": {
          "base_uri": "https://localhost:8080/"
        },
        "id": "bunnyo-dr6qW",
        "outputId": "bbf0cec8-c767-4e30-a3fd-82da56ac9803"
      },
      "outputs": [
        {
          "name": "stdout",
          "output_type": "stream",
          "text": [
            "[1, 2, 3, 4, 5, 6, 7]\n"
          ]
        }
      ],
      "source": [
        "print(my_list)"
      ]
    },
    {
      "cell_type": "code",
      "execution_count": null,
      "metadata": {
        "id": "TR-FQLINsMBh"
      },
      "outputs": [],
      "source": [
        "my_tuple=(1,2,3)\n",
        "new_tuple=my_tuple+(4,5,6)"
      ]
    },
    {
      "cell_type": "code",
      "execution_count": null,
      "metadata": {
        "colab": {
          "base_uri": "https://localhost:8080/"
        },
        "id": "NlNzQypFsan6",
        "outputId": "189b96df-f54c-4e7e-a5d4-80041899a580"
      },
      "outputs": [
        {
          "name": "stdout",
          "output_type": "stream",
          "text": [
            "(1, 2, 3, 4, 5, 6)\n"
          ]
        }
      ],
      "source": [
        "print(new_tuple)"
      ]
    },
    {
      "cell_type": "code",
      "execution_count": null,
      "metadata": {
        "id": "vMiiHcTrsd_P"
      },
      "outputs": [],
      "source": [
        "my_list=[1,2,3,4,5]\n",
        "new_list=sorted(my_list,reverse=True)"
      ]
    },
    {
      "cell_type": "code",
      "execution_count": null,
      "metadata": {
        "colab": {
          "base_uri": "https://localhost:8080/"
        },
        "id": "KyeDcKpYs_Dv",
        "outputId": "9a747ebc-4372-463c-f2da-f6125e39668d"
      },
      "outputs": [
        {
          "name": "stdout",
          "output_type": "stream",
          "text": [
            "[5, 4, 3, 2, 1]\n"
          ]
        }
      ],
      "source": [
        "print(new_list)"
      ]
    },
    {
      "cell_type": "code",
      "execution_count": null,
      "metadata": {
        "id": "FMNeFhdxtCH7"
      },
      "outputs": [],
      "source": [
        "My_list=[1,2,3,4,5]\n",
        "new_list=my_list[1:3]"
      ]
    },
    {
      "cell_type": "code",
      "execution_count": null,
      "metadata": {
        "colab": {
          "base_uri": "https://localhost:8080/"
        },
        "id": "SlBkrvTFtaX8",
        "outputId": "82e2cb21-28cd-467b-bb7c-0f3e316e79a4"
      },
      "outputs": [
        {
          "name": "stdout",
          "output_type": "stream",
          "text": [
            "[2, 3]\n"
          ]
        }
      ],
      "source": [
        "print(new_list)"
      ]
    },
    {
      "cell_type": "code",
      "execution_count": null,
      "metadata": {
        "colab": {
          "base_uri": "https://localhost:8080/",
          "height": 164
        },
        "id": "usoCSmsntdod",
        "outputId": "038113bf-97bc-4736-e2ad-00819a7f4320"
      },
      "outputs": [
        {
          "ename": "TypeError",
          "evalue": "'tuple' object does not support item assignment",
          "output_type": "error",
          "traceback": [
            "\u001b[0;31m---------------------------------------------------------------------------\u001b[0m",
            "\u001b[0;31mTypeError\u001b[0m                                 Traceback (most recent call last)",
            "\u001b[0;32m<ipython-input-34-324a9ae32052>\u001b[0m in \u001b[0;36m<cell line: 2>\u001b[0;34m()\u001b[0m\n\u001b[1;32m      1\u001b[0m \u001b[0mMy_tuple\u001b[0m\u001b[0;34m=\u001b[0m\u001b[0;34m(\u001b[0m\u001b[0;36m1\u001b[0m\u001b[0;34m,\u001b[0m\u001b[0;36m2\u001b[0m\u001b[0;34m,\u001b[0m\u001b[0;36m3\u001b[0m\u001b[0;34m,\u001b[0m\u001b[0;36m4\u001b[0m\u001b[0;34m,\u001b[0m\u001b[0;36m5\u001b[0m\u001b[0;34m)\u001b[0m\u001b[0;34m\u001b[0m\u001b[0;34m\u001b[0m\u001b[0m\n\u001b[0;32m----> 2\u001b[0;31m \u001b[0mMy_tuple\u001b[0m\u001b[0;34m[\u001b[0m\u001b[0;36m1\u001b[0m\u001b[0;34m]\u001b[0m\u001b[0;34m=\u001b[0m\u001b[0;36m10\u001b[0m\u001b[0;34m\u001b[0m\u001b[0;34m\u001b[0m\u001b[0m\n\u001b[0m",
            "\u001b[0;31mTypeError\u001b[0m: 'tuple' object does not support item assignment"
          ]
        }
      ],
      "source": [
        "My_tuple=(1,2,3,4,5)\n",
        "My_tuple[1]=10"
      ]
    },
    {
      "cell_type": "code",
      "execution_count": null,
      "metadata": {
        "id": "st7z0uRztuPt"
      },
      "outputs": [],
      "source": [
        "my_tuple=(1,2,3,4,5)\n",
        "your_tuple=my_tuple*3"
      ]
    },
    {
      "cell_type": "code",
      "execution_count": null,
      "metadata": {
        "colab": {
          "base_uri": "https://localhost:8080/"
        },
        "id": "WUoahydRuj7b",
        "outputId": "fbdc03a9-b152-4fb4-c960-5e92c496b400"
      },
      "outputs": [
        {
          "name": "stdout",
          "output_type": "stream",
          "text": [
            "(1, 2, 3, 4, 5, 1, 2, 3, 4, 5, 1, 2, 3, 4, 5)\n"
          ]
        }
      ],
      "source": [
        "print(your_tuple)"
      ]
    },
    {
      "cell_type": "code",
      "execution_count": null,
      "metadata": {
        "id": "QWjuRKRSumTt"
      },
      "outputs": [],
      "source": [
        "my_tuple=(1,2,3)\n",
        "new_tuple=my_tuple+(4,)"
      ]
    },
    {
      "cell_type": "code",
      "execution_count": null,
      "metadata": {
        "colab": {
          "base_uri": "https://localhost:8080/"
        },
        "id": "2iQoi-iWu_4L",
        "outputId": "b22422fc-7890-47fb-84c3-b7412a4019df"
      },
      "outputs": [
        {
          "name": "stdout",
          "output_type": "stream",
          "text": [
            "(1, 2, 3, 4)\n"
          ]
        }
      ],
      "source": [
        "print(new_tuple)"
      ]
    },
    {
      "cell_type": "code",
      "execution_count": null,
      "metadata": {
        "id": "n0Q_n5IhvQxn"
      },
      "outputs": [],
      "source": [
        "x=(1,2,3,4,5)\n",
        "y=sum(x)"
      ]
    },
    {
      "cell_type": "code",
      "execution_count": null,
      "metadata": {
        "colab": {
          "base_uri": "https://localhost:8080/"
        },
        "id": "NDfaC8A3vgxe",
        "outputId": "266c0d9e-5ada-4d0c-99c7-4ba788c2c205"
      },
      "outputs": [
        {
          "name": "stdout",
          "output_type": "stream",
          "text": [
            "15\n"
          ]
        }
      ],
      "source": [
        "print(y)"
      ]
    },
    {
      "cell_type": "code",
      "execution_count": null,
      "metadata": {
        "id": "x7IGvJt2vijU"
      },
      "outputs": [],
      "source": [
        "my_list=[1,2,3,4,5]\n",
        "del my_list[2]"
      ]
    },
    {
      "cell_type": "code",
      "execution_count": null,
      "metadata": {
        "colab": {
          "base_uri": "https://localhost:8080/"
        },
        "id": "-X7tyFebv3BD",
        "outputId": "eea8c2b4-ae17-4d3d-cb96-0a0b52c3758e"
      },
      "outputs": [
        {
          "name": "stdout",
          "output_type": "stream",
          "text": [
            "[1, 2, 4, 5]\n"
          ]
        }
      ],
      "source": [
        "print(my_list)"
      ]
    },
    {
      "cell_type": "code",
      "execution_count": null,
      "metadata": {
        "colab": {
          "background_save": true
        },
        "id": "z94kkMZfwIyI"
      },
      "outputs": [],
      "source": []
    }
  ],
  "metadata": {
    "colab": {
      "provenance": []
    },
    "kernelspec": {
      "display_name": "Python 3",
      "name": "python3"
    },
    "language_info": {
      "name": "python"
    }
  },
  "nbformat": 4,
  "nbformat_minor": 0
}